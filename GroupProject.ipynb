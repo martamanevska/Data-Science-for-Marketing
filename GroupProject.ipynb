{
 "cells": [
  {
   "cell_type": "markdown",
   "metadata": {},
   "source": [
    "# National tourism promotion\n",
    "## Group project\n",
    "### This notebook uses the *EuropeTop100Attractions_ENG_20190101_20210821* and the *Holidays.csv* datasets\n",
    "\n",
    "(c) Nuno António 2021-2022 - Rev. 1.02"
   ]
  },
  {
   "cell_type": "markdown",
   "metadata": {},
   "source": [
    "## *EuropeTop100Attractions_ENG_20190101_20210821* dataset description\n",
    "\n",
    "### Sheet **Reviews**\n",
    "Reviews published in Tripadvisor from January 1, 2019 to August 21, 2021, in English, for the top 100 tourist attractions in Europe.\n",
    "- **localID**: string - ID of the attraction\n",
    "- **extractionDate** - date - date when the review was extracted\n",
    "- **globalRating** - numeric - global rating of the attraction at the time of the review extraction (reviews in Tripadvidor are in a scale from 1 to 5 stars)\n",
    "- **positionOnRanking** - numeric - position in TripAdvisor's regional ranking at the extraction date\n",
    "- **sitesOnRanking** - numeric - total number of attractions in TripAdvisor's regional ranking at the extraction date\n",
    "- **totalReviews** - numeric - total reviews written for the attraction at the time of the review extraction\n",
    "- **userName** - string - user name of the TripAdvisor user who posted the review. The user name is composed of two parts (first@second). The first is the public name of the user. The second is the TripAdvisor unique identifier of the user.\n",
    "- **userLocation** - string - location of where the user who posted the review lives. This is not a mandatory field, so many users to not provide their location\n",
    "- **userContributions** - numeric - how many reviews have the user wrote in TripAdvisor at the moment of the extraction of the review\n",
    "- **tripType** - string - type of trip type. This is not a mandatory field\n",
    "- **reviewWritten** - date - date when the review was published\n",
    "- **reviewVisited** - date - date when the customer visited the attraction. The day is always 1 because Tripadvisor only ask users to describe the year and the month, not the day\n",
    "- **reviewRating** - numeric - quantitative rating assigned by the user (1 star - bad to 5 stars - excellent)\n",
    "- **reviewLanguage** - string - language the review was written (in this case should be always \"en\" for english)\n",
    "- **reviewFullText** - string - full text of the review (since this course does not address Text Mining the use of this field is completely optional and its use will not be considered for grading)\n",
    "\n",
    "\n",
    "### Sheet **Attractions**\n",
    "Information about the attractions.\n",
    "- **ID**: string - ID of the attraction\n",
    "- **Name**: string - name of the attraction\n",
    "- **Country**: string - name of the country or region\n",
    "- **ISO**: string - ISO code of the country or region\n",
    "\n",
    "## *Holidays.csv* dataset description\n",
    "Worldwide public holidays. Additional information available at https://docs.microsoft.com/en-us/azure/open-datasets/dataset-public-holidays?tabs=azure-storage#data-access\n",
    "- **countryOrRegion**: string - country or region full name\n",
    "- **countryOrRegionCode**: string - country or region in ISO format\n",
    "- **date**: date - date of the holiday\n",
    "- **holidayName**: string - full name of the holiday\n",
    "- **isPaidTimeOff**: boolean - indicates whether most people have paid time off on this date (only available for US, GB, and India now). If it is NULL, it means unknown\n",
    "- **normalizeHolidayName**: normalized name of the holiday"
   ]
  },
  {
   "cell_type": "markdown",
   "metadata": {},
   "source": [
    "## Group details\n",
    "- Composed of 2 to 4 students. Groups of two are aceptable, but must be approved by instructors.\n",
    "- Students can be from different theory and practical classes."
   ]
  },
  {
   "cell_type": "markdown",
   "metadata": {},
   "source": [
    "## Work description\n",
    "\n",
    "### Overview\n",
    "<p>Tourism was hit hard by the COVID-19 pandemic. National Tourism Board Organizations (NTBO) want to study users' generated content, such as Social Media reviews, to understand visitors patterns and if these patterns were affected by the pandemic.</p>\n",
    "<p>Employing the CRISP-DM process model, your group are expected to act as a consultant for the Portuguese NTBO. Your job is to characterize and describe the patterns of visitants of Portuguese attractions and comparing it to Portugal's main tourism competitors. In addition, you can try to understand visitors' frequent itemset associations, similarities between attractions or visitors, or segment visitors using RFM (replacing Monetization by ratings for example).</p>\n",
    "\n",
    "Examples of the type of analysis that can be done:\n",
    "- Comparison of reviews frequency and rating distribution before and after the pandemic\n",
    "- Comparison of the type of trip and origin of visitors\n",
    "\n",
    "<p>Invest time in explaining the rationale of your choices and your business recommendations based on your findings.</p>\n",
    "\n",
    "### Deliverables\n",
    "- Python source code (Jupyter notebook or .py files) and/or Excel files. Python code should be commented to facilitate comprehension\n",
    "- Powerpoint presentation\n",
    "- Report:\n",
    "    - Maximum of 20 pages (excluding appendixes)\n",
    "    - Minimum font size is 10\n",
    "    - Should describe the main outputs according to CRISP-DM, including the brief description of the problem, methods, results, and their discussion\n",
    "\n",
    "\n",
    "### Presentation\n",
    "- To be done in the exam season with all group members present\n",
    "- Slots of 20 minutes per group\n",
    "- 10 minutes for presentation, another 10 for discussion\n",
    "\n",
    "\n",
    "### Questions or additional informations\n",
    "For any additional questions, don't hesitate to get in touch with the instructors of the practical classes. They will also act as the national tourism board business/project stakeholders.\n",
    "\n",
    "<br><br>\n",
    "Good work or good luck ;)"
   ]
  }
 ],
 "metadata": {
  "kernelspec": {
   "display_name": "Python 3.10.6 64-bit",
   "language": "python",
   "name": "python3"
  },
  "language_info": {
   "codemirror_mode": {
    "name": "ipython",
    "version": 3
   },
   "file_extension": ".py",
   "mimetype": "text/x-python",
   "name": "python",
   "nbconvert_exporter": "python",
   "pygments_lexer": "ipython3",
   "version": "3.10.6"
  },
  "varInspector": {
   "cols": {
    "lenName": 16,
    "lenType": 16,
    "lenVar": 40
   },
   "kernels_config": {
    "python": {
     "delete_cmd_postfix": "",
     "delete_cmd_prefix": "del ",
     "library": "var_list.py",
     "varRefreshCmd": "print(var_dic_list())"
    },
    "r": {
     "delete_cmd_postfix": ") ",
     "delete_cmd_prefix": "rm(",
     "library": "var_list.r",
     "varRefreshCmd": "cat(var_dic_list()) "
    }
   },
   "types_to_exclude": [
    "module",
    "function",
    "builtin_function_or_method",
    "instance",
    "_Feature"
   ],
   "window_display": false
  },
  "vscode": {
   "interpreter": {
    "hash": "916dbcbb3f70747c44a77c7bcd40155683ae19c65e1c03b4aa3499c5328201f1"
   }
  }
 },
 "nbformat": 4,
 "nbformat_minor": 2
}

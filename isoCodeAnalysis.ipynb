{
 "cells": [
  {
   "cell_type": "code",
   "execution_count": 1,
   "metadata": {},
   "outputs": [],
   "source": [
    "import datetime\n",
    "\n",
    "import matplotlib.pyplot as plt\n",
    "import numpy as np\n",
    "import pandas as pd\n",
    "import seaborn as sns\n",
    "from matplotlib import ticker"
   ]
  },
  {
   "cell_type": "code",
   "execution_count": 2,
   "metadata": {},
   "outputs": [],
   "source": [
    "subPlots_Title_fontSize = 12\n",
    "subPlots_xAxis_fontSize = 10\n",
    "subPlots_yAxis_fontSize = 10\n",
    "subPlots_label_fontSize = 10\n",
    "heatmaps_text_fontSize = 8\n",
    "\n",
    "plots_Title_fontSize = 14\n",
    "plots_Title_textColour = 'black'\n",
    "\n",
    "plots_Legend_fontSize = 12\n",
    "plots_Legend_textColour = 'black'"
   ]
  },
  {
   "cell_type": "code",
   "execution_count": 3,
   "metadata": {},
   "outputs": [
    {
     "data": {
      "text/html": [
       "<div>\n",
       "<style scoped>\n",
       "    .dataframe tbody tr th:only-of-type {\n",
       "        vertical-align: middle;\n",
       "    }\n",
       "\n",
       "    .dataframe tbody tr th {\n",
       "        vertical-align: top;\n",
       "    }\n",
       "\n",
       "    .dataframe thead th {\n",
       "        text-align: right;\n",
       "    }\n",
       "</style>\n",
       "<table border=\"1\" class=\"dataframe\">\n",
       "  <thead>\n",
       "    <tr style=\"text-align: right;\">\n",
       "      <th></th>\n",
       "      <th>count</th>\n",
       "      <th>unique</th>\n",
       "      <th>top</th>\n",
       "      <th>freq</th>\n",
       "    </tr>\n",
       "  </thead>\n",
       "  <tbody>\n",
       "    <tr>\n",
       "      <th>userName</th>\n",
       "      <td>54444</td>\n",
       "      <td>54444</td>\n",
       "      <td>Maurice M@MauriceM171</td>\n",
       "      <td>1</td>\n",
       "    </tr>\n",
       "    <tr>\n",
       "      <th>userLocation</th>\n",
       "      <td>54444</td>\n",
       "      <td>12452</td>\n",
       "      <td>['London', ' UK']</td>\n",
       "      <td>2653</td>\n",
       "    </tr>\n",
       "    <tr>\n",
       "      <th>userISO</th>\n",
       "      <td>54444</td>\n",
       "      <td>274</td>\n",
       "      <td>UK</td>\n",
       "      <td>21840</td>\n",
       "    </tr>\n",
       "  </tbody>\n",
       "</table>\n",
       "</div>"
      ],
      "text/plain": [
       "              count unique                    top   freq\n",
       "userName      54444  54444  Maurice M@MauriceM171      1\n",
       "userLocation  54444  12452      ['London', ' UK']   2653\n",
       "userISO       54444    274                     UK  21840"
      ]
     },
     "execution_count": 3,
     "metadata": {},
     "output_type": "execute_result"
    }
   ],
   "source": [
    "ds = pd.read_excel('locationThird.xlsx', sheet_name='Reviews', decimal=\",\", engine='openpyxl')\n",
    "ds.describe(include='all', datetime_is_numeric=True).T"
   ]
  },
  {
   "cell_type": "code",
   "execution_count": 13,
   "metadata": {},
   "outputs": [
    {
     "data": {
      "text/html": [
       "<div>\n",
       "<style scoped>\n",
       "    .dataframe tbody tr th:only-of-type {\n",
       "        vertical-align: middle;\n",
       "    }\n",
       "\n",
       "    .dataframe tbody tr th {\n",
       "        vertical-align: top;\n",
       "    }\n",
       "\n",
       "    .dataframe thead th {\n",
       "        text-align: right;\n",
       "    }\n",
       "</style>\n",
       "<table border=\"1\" class=\"dataframe\">\n",
       "  <thead>\n",
       "    <tr style=\"text-align: right;\">\n",
       "      <th></th>\n",
       "      <th>userISO</th>\n",
       "      <th>iso</th>\n",
       "    </tr>\n",
       "  </thead>\n",
       "  <tbody>\n",
       "    <tr>\n",
       "      <th>0</th>\n",
       "      <td>UK</td>\n",
       "      <td>21840</td>\n",
       "    </tr>\n",
       "    <tr>\n",
       "      <th>1</th>\n",
       "      <td>US</td>\n",
       "      <td>13252</td>\n",
       "    </tr>\n",
       "    <tr>\n",
       "      <th>2</th>\n",
       "      <td>AU</td>\n",
       "      <td>2721</td>\n",
       "    </tr>\n",
       "    <tr>\n",
       "      <th>3</th>\n",
       "      <td>CA</td>\n",
       "      <td>2224</td>\n",
       "    </tr>\n",
       "    <tr>\n",
       "      <th>4</th>\n",
       "      <td>ES</td>\n",
       "      <td>859</td>\n",
       "    </tr>\n",
       "    <tr>\n",
       "      <th>5</th>\n",
       "      <td>IE</td>\n",
       "      <td>847</td>\n",
       "    </tr>\n",
       "    <tr>\n",
       "      <th>6</th>\n",
       "      <td>IN</td>\n",
       "      <td>684</td>\n",
       "    </tr>\n",
       "    <tr>\n",
       "      <th>7</th>\n",
       "      <td>NL</td>\n",
       "      <td>624</td>\n",
       "    </tr>\n",
       "    <tr>\n",
       "      <th>8</th>\n",
       "      <td>DE</td>\n",
       "      <td>565</td>\n",
       "    </tr>\n",
       "    <tr>\n",
       "      <th>9</th>\n",
       "      <td>FR</td>\n",
       "      <td>559</td>\n",
       "    </tr>\n",
       "    <tr>\n",
       "      <th>10</th>\n",
       "      <td>IT</td>\n",
       "      <td>526</td>\n",
       "    </tr>\n",
       "    <tr>\n",
       "      <th>11</th>\n",
       "      <td>BE</td>\n",
       "      <td>449</td>\n",
       "    </tr>\n",
       "    <tr>\n",
       "      <th>12</th>\n",
       "      <td>GR</td>\n",
       "      <td>443</td>\n",
       "    </tr>\n",
       "    <tr>\n",
       "      <th>13</th>\n",
       "      <td>IL</td>\n",
       "      <td>409</td>\n",
       "    </tr>\n",
       "    <tr>\n",
       "      <th>14</th>\n",
       "      <td>NZ</td>\n",
       "      <td>406</td>\n",
       "    </tr>\n",
       "    <tr>\n",
       "      <th>15</th>\n",
       "      <td>SG</td>\n",
       "      <td>369</td>\n",
       "    </tr>\n",
       "    <tr>\n",
       "      <th>16</th>\n",
       "      <td>PT</td>\n",
       "      <td>352</td>\n",
       "    </tr>\n",
       "    <tr>\n",
       "      <th>17</th>\n",
       "      <td>ZA</td>\n",
       "      <td>348</td>\n",
       "    </tr>\n",
       "    <tr>\n",
       "      <th>18</th>\n",
       "      <td>CH</td>\n",
       "      <td>321</td>\n",
       "    </tr>\n",
       "    <tr>\n",
       "      <th>19</th>\n",
       "      <td>SE</td>\n",
       "      <td>316</td>\n",
       "    </tr>\n",
       "    <tr>\n",
       "      <th>20</th>\n",
       "      <td>RO</td>\n",
       "      <td>316</td>\n",
       "    </tr>\n",
       "    <tr>\n",
       "      <th>21</th>\n",
       "      <td>NO</td>\n",
       "      <td>298</td>\n",
       "    </tr>\n",
       "    <tr>\n",
       "      <th>22</th>\n",
       "      <td>FI</td>\n",
       "      <td>276</td>\n",
       "    </tr>\n",
       "    <tr>\n",
       "      <th>23</th>\n",
       "      <td>DK</td>\n",
       "      <td>274</td>\n",
       "    </tr>\n",
       "    <tr>\n",
       "      <th>24</th>\n",
       "      <td>AE</td>\n",
       "      <td>272</td>\n",
       "    </tr>\n",
       "    <tr>\n",
       "      <th>25</th>\n",
       "      <td>PL</td>\n",
       "      <td>270</td>\n",
       "    </tr>\n",
       "    <tr>\n",
       "      <th>26</th>\n",
       "      <td>CN</td>\n",
       "      <td>221</td>\n",
       "    </tr>\n",
       "    <tr>\n",
       "      <th>27</th>\n",
       "      <td>HU</td>\n",
       "      <td>190</td>\n",
       "    </tr>\n",
       "    <tr>\n",
       "      <th>28</th>\n",
       "      <td>MY</td>\n",
       "      <td>180</td>\n",
       "    </tr>\n",
       "    <tr>\n",
       "      <th>29</th>\n",
       "      <td>CZ</td>\n",
       "      <td>172</td>\n",
       "    </tr>\n",
       "  </tbody>\n",
       "</table>\n",
       "</div>"
      ],
      "text/plain": [
       "   userISO    iso\n",
       "0       UK  21840\n",
       "1       US  13252\n",
       "2       AU   2721\n",
       "3       CA   2224\n",
       "4       ES    859\n",
       "5       IE    847\n",
       "6       IN    684\n",
       "7       NL    624\n",
       "8       DE    565\n",
       "9       FR    559\n",
       "10      IT    526\n",
       "11      BE    449\n",
       "12      GR    443\n",
       "13      IL    409\n",
       "14      NZ    406\n",
       "15      SG    369\n",
       "16      PT    352\n",
       "17      ZA    348\n",
       "18      CH    321\n",
       "19      SE    316\n",
       "20      RO    316\n",
       "21      NO    298\n",
       "22      FI    276\n",
       "23      DK    274\n",
       "24      AE    272\n",
       "25      PL    270\n",
       "26      CN    221\n",
       "27      HU    190\n",
       "28      MY    180\n",
       "29      CZ    172"
      ]
     },
     "execution_count": 13,
     "metadata": {},
     "output_type": "execute_result"
    }
   ],
   "source": [
    "newDs = ds.groupby('userISO')['userISO'].count()\n",
    "newDs = newDs.to_frame()\n",
    "newDs = newDs.rename(columns={'userISO': 'iso'})\n",
    "newDs.sort_values(by=['iso'], inplace=True, ascending=False)\n",
    "newDs.reset_index(inplace=True, level=['userISO'])\n",
    "newDs.head(30)"
   ]
  },
  {
   "cell_type": "code",
   "execution_count": 22,
   "metadata": {},
   "outputs": [],
   "source": [
    "dsOnlyISO = ds[ds['userISO'].str.len() == 2]"
   ]
  },
  {
   "cell_type": "code",
   "execution_count": 23,
   "metadata": {},
   "outputs": [
    {
     "name": "stderr",
     "output_type": "stream",
     "text": [
      "/home/tosk/anaconda3/lib/python3.9/site-packages/IPython/core/pylabtools.py:151: UserWarning: Glyph 20013 (\\N{CJK UNIFIED IDEOGRAPH-4E2D}) missing from current font.\n",
      "  fig.canvas.print_figure(bytes_io, **kw)\n",
      "/home/tosk/anaconda3/lib/python3.9/site-packages/IPython/core/pylabtools.py:151: UserWarning: Glyph 22269 (\\N{CJK UNIFIED IDEOGRAPH-56FD}) missing from current font.\n",
      "  fig.canvas.print_figure(bytes_io, **kw)\n"
     ]
    },
    {
     "data": {
      "image/png": "[encoded data removed]",
      "text/plain": [
       "<Figure size 1728x360 with 1 Axes>"
      ]
     },
     "metadata": {
      "needs_background": "light"
     },
     "output_type": "display_data"
    }
   ],
   "source": [
    "# Frequency by attraction\n",
    "\n",
    "# Draw\n",
    "fig, ax = plt.subplots(figsize=(24,5))\n",
    "g = sns.countplot(x=dsOnlyISO['userISO'], data=dsOnlyISO)\n",
    "\n",
    "# Decoration\n",
    "fmt = \"{x:,.0f}\"\n",
    "tick = ticker.StrMethodFormatter(fmt)\n",
    "ax.yaxis.set_major_formatter(tick)\n",
    "sns.despine()\n",
    "plt.title(\"Frequency by attraction\", fontsize=plots_Title_fontSize)\n",
    "plt.xlabel(\"ISO\")\n",
    "plt.ylabel(\"Frequency\")\n",
    "plt.rc('axes', labelsize=subPlots_label_fontSize)\n",
    "plt.xticks(rotation=90, ha='right');"
   ]
  },
  {
   "cell_type": "code",
   "execution_count": 11,
   "metadata": {},
   "outputs": [
    {
     "data": {
      "text/plain": [
       "Deutschland                       21\n",
       "ישראל                             20\n",
       "Éire / Ireland                    18\n",
       "Nederland                         15\n",
       "Ελλάς                             11\n",
       "Suomi / Finland                   11\n",
       "España                            11\n",
       "الإمارات العربية المتحدة          10\n",
       "Schweiz/Suisse/Svizzera/Svizra     9\n",
       "Mauritius / Maurice                7\n",
       "New Zealand / Aotearoa             7\n",
       "ປະເທດລາວ                           5\n",
       "Россия                             5\n",
       "Norge                              5\n",
       "Palestinian Territory              4\n",
       "Κύπρος - Kıbrıs                    4\n",
       "Asia                               4\n",
       "Brasil                             4\n",
       "Ayiti                              3\n",
       "Sverige                            3\n",
       "Name: noIso, dtype: int64"
      ]
     },
     "execution_count": 11,
     "metadata": {},
     "output_type": "execute_result"
    }
   ],
   "source": [
    "numberOfNoIso = 0\n",
    "listNoIso = []\n",
    "ds['userISO'] = ds['userISO']\n",
    "\n",
    "for item in ds['userISO']:\n",
    "    if (len(item) > 2):\n",
    "        numberOfNoIso += 1\n",
    "        listNoIso.append(item)\n",
    "dsNoISO = pd.DataFrame(listNoIso, columns=['noIso'])\n",
    "dsNoISO['noIso'].value_counts().head(20)"
   ]
  },
  {
   "cell_type": "code",
   "execution_count": 24,
   "metadata": {},
   "outputs": [],
   "source": [
    "ds['userISO'] = np.where(ds['userISO'] == 'Deutschland', 'DE', ds['userISO'])\n",
    "ds['userISO'] = np.where(ds['userISO'] == 'Nederland', 'NL', ds['userISO'])\n",
    "ds['userISO'] = np.where(ds['userISO'] == 'Schweiz/Suisse/Svizzera/Svizra', 'CH', ds['userISO'])\n",
    "ds['userISO'] = np.where(ds['userISO'] == 'Suomi / Finland', 'FI', ds['userISO'])\n",
    "ds['userISO'] = np.where(ds['userISO'] == 'Éire / Ireland', 'IR', ds['userISO'])\n"
   ]
  },
  {
   "cell_type": "code",
   "execution_count": 25,
   "metadata": {},
   "outputs": [
    {
     "name": "stdout",
     "output_type": "stream",
     "text": [
      "2022-12-21 13:46:31.268954\n"
     ]
    }
   ],
   "source": [
    "ds.to_excel('userISO.xlsx', index=False, sheet_name='Reviews')\n",
    "\n",
    "print(datetime.datetime.now())"
   ]
  }
 ],
 "metadata": {
  "kernelspec": {
   "display_name": "Python 3 (ipykernel)",
   "language": "python",
   "name": "python3"
  },
  "language_info": {
   "codemirror_mode": {
    "name": "ipython",
    "version": 3
   },
   "file_extension": ".py",
   "mimetype": "text/x-python",
   "name": "python",
   "nbconvert_exporter": "python",
   "pygments_lexer": "ipython3",
   "version": "3.9.12"
  },
  "vscode": {
   "interpreter": {
    "hash": "a9fbb792ae1df2a656f689c21581dd988fdd58f51421272ee52f208f591de2f2"
   }
  }
 },
 "nbformat": 4,
 "nbformat_minor": 2
}
